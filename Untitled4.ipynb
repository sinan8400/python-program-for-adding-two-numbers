{
  "nbformat": 4,
  "nbformat_minor": 0,
  "metadata": {
    "colab": {
      "provenance": [],
      "authorship_tag": "ABX9TyN9MqlsjF1+0pbAmoKR0Mms",
      "include_colab_link": true
    },
    "kernelspec": {
      "name": "python3",
      "display_name": "Python 3"
    },
    "language_info": {
      "name": "python"
    }
  },
  "cells": [
    {
      "cell_type": "markdown",
      "metadata": {
        "id": "view-in-github",
        "colab_type": "text"
      },
      "source": [
        "<a href=\"https://colab.research.google.com/github/sinan8400/python-program-for-adding-two-numbers/blob/main/Untitled4.ipynb\" target=\"_parent\"><img src=\"https://colab.research.google.com/assets/colab-badge.svg\" alt=\"Open In Colab\"/></a>"
      ]
    },
    {
      "cell_type": "code",
      "execution_count": null,
      "metadata": {
        "colab": {
          "base_uri": "https://localhost:8080/"
        },
        "id": "v8fU2EKuOuLT",
        "outputId": "a12118f9-decd-488a-b42d-de053252cadd"
      },
      "outputs": [
        {
          "output_type": "stream",
          "name": "stdout",
          "text": [
            "2\n",
            "3\n",
            "5\n",
            "7\n",
            "11\n",
            "13\n",
            "17\n",
            "19\n"
          ]
        }
      ],
      "source": [
        "# prompt: to find a prime number within 20\n",
        "\n",
        "# Define a function to check if a number is prime\n",
        "def is_prime(num):\n",
        "  if num <= 1:\n",
        "    return False\n",
        "  for i in range(2, int(num**0.5) + 1):\n",
        "    if num % i == 0:\n",
        "      return False\n",
        "  return True\n",
        "\n",
        "# Find prime numbers within 20\n",
        "for i in range(1, 21):\n",
        "  if is_prime(i):\n",
        "    print(i)\n"
      ]
    },
    {
      "cell_type": "code",
      "source": [
        "print(\"odd number\")\n",
        "for i in range(1,100,2):\n",
        "    print(i)\n",
        "print(\"even number\")\n",
        "for i in range(2,100,2):\n",
        "    print(i)"
      ],
      "metadata": {
        "colab": {
          "base_uri": "https://localhost:8080/"
        },
        "id": "p3KrgOM-aCIn",
        "outputId": "1e6529ad-c2b7-4eee-ff47-b1df4b2a0620"
      },
      "execution_count": null,
      "outputs": [
        {
          "output_type": "stream",
          "name": "stdout",
          "text": [
            "odd number\n",
            "1\n",
            "3\n",
            "5\n",
            "7\n",
            "9\n",
            "11\n",
            "13\n",
            "15\n",
            "17\n",
            "19\n",
            "21\n",
            "23\n",
            "25\n",
            "27\n",
            "29\n",
            "31\n",
            "33\n",
            "35\n",
            "37\n",
            "39\n",
            "41\n",
            "43\n",
            "45\n",
            "47\n",
            "49\n",
            "51\n",
            "53\n",
            "55\n",
            "57\n",
            "59\n",
            "61\n",
            "63\n",
            "65\n",
            "67\n",
            "69\n",
            "71\n",
            "73\n",
            "75\n",
            "77\n",
            "79\n",
            "81\n",
            "83\n",
            "85\n",
            "87\n",
            "89\n",
            "91\n",
            "93\n",
            "95\n",
            "97\n",
            "99\n",
            "even number\n",
            "2\n",
            "4\n",
            "6\n",
            "8\n",
            "10\n",
            "12\n",
            "14\n",
            "16\n",
            "18\n",
            "20\n",
            "22\n",
            "24\n",
            "26\n",
            "28\n",
            "30\n",
            "32\n",
            "34\n",
            "36\n",
            "38\n",
            "40\n",
            "42\n",
            "44\n",
            "46\n",
            "48\n",
            "50\n",
            "52\n",
            "54\n",
            "56\n",
            "58\n",
            "60\n",
            "62\n",
            "64\n",
            "66\n",
            "68\n",
            "70\n",
            "72\n",
            "74\n",
            "76\n",
            "78\n",
            "80\n",
            "82\n",
            "84\n",
            "86\n",
            "88\n",
            "90\n",
            "92\n",
            "94\n",
            "96\n",
            "98\n"
          ]
        }
      ]
    },
    {
      "cell_type": "code",
      "source": [
        "a=int(input())\n",
        "for i in range(1,a+1):\n",
        "   print(i+1)"
      ],
      "metadata": {
        "colab": {
          "base_uri": "https://localhost:8080/"
        },
        "id": "YuHmWQqZlLUm",
        "outputId": "b89f206e-f189-44b9-bbee-5059d1b42ecb"
      },
      "execution_count": null,
      "outputs": [
        {
          "output_type": "stream",
          "name": "stdout",
          "text": [
            "7\n",
            "2\n",
            "3\n",
            "4\n",
            "5\n",
            "6\n",
            "7\n",
            "8\n"
          ]
        }
      ]
    },
    {
      "cell_type": "code",
      "source": [
        "name=input(\"enter your name\")\n",
        "print(\"welcome\",name)\n",
        "name=input(\"emter a name\")\n",
        "print(\"welcome\",name)\n",
        "print(\"both are same\")"
      ],
      "metadata": {
        "colab": {
          "base_uri": "https://localhost:8080/"
        },
        "id": "4C1cq9azBLh7",
        "outputId": "9476acae-cae5-41ea-c5e2-24335b20c476"
      },
      "execution_count": null,
      "outputs": [
        {
          "output_type": "stream",
          "name": "stdout",
          "text": [
            "enter your namesaafe\n",
            "welcome saafe\n",
            "emter a namesefe\n",
            "welcome sefe\n",
            "both are same\n"
          ]
        }
      ]
    },
    {
      "cell_type": "code",
      "source": [
        "name=input(\"enter your name:\")\n",
        "name2=input(\"enter second name:\")\n",
        "if name==name2:\n",
        "  print(\"both are same\",name)"
      ],
      "metadata": {
        "colab": {
          "base_uri": "https://localhost:8080/"
        },
        "id": "vsHuknYfDNs0",
        "outputId": "4b328f77-0321-4d1c-b9e1-30ded0110ee7"
      },
      "execution_count": null,
      "outputs": [
        {
          "output_type": "stream",
          "name": "stdout",
          "text": [
            "enter your name:saafe\n",
            "enter second name:saafe\n",
            "both are same saafe\n"
          ]
        }
      ]
    },
    {
      "cell_type": "code",
      "source": [
        "def check_equal(str1,str2):\n",
        "  if str==str2:\n",
        "    print(\"the name are same\")\n",
        "    else:\n",
        "      print(\"the name are diff\")\n",
        "      name=input(\"enter your name\")\n",
        "      name2=input(\"enter a name\")"
      ],
      "metadata": {
        "colab": {
          "base_uri": "https://localhost:8080/",
          "height": 106
        },
        "id": "v3beN6pSF4Pk",
        "outputId": "121777a9-3fd5-4456-85e6-2b5c9c8650b2"
      },
      "execution_count": null,
      "outputs": [
        {
          "output_type": "error",
          "ename": "SyntaxError",
          "evalue": "invalid syntax (<ipython-input-44-76e775f7cbc4>, line 4)",
          "traceback": [
            "\u001b[0;36m  File \u001b[0;32m\"<ipython-input-44-76e775f7cbc4>\"\u001b[0;36m, line \u001b[0;32m4\u001b[0m\n\u001b[0;31m    else:\u001b[0m\n\u001b[0m    ^\u001b[0m\n\u001b[0;31mSyntaxError\u001b[0m\u001b[0;31m:\u001b[0m invalid syntax\n"
          ]
        }
      ]
    },
    {
      "cell_type": "code",
      "source": [
        "#assign a list to an variable named my_list\n",
        "my_list=[1,2,3]\n",
        "print(my_list)"
      ],
      "metadata": {
        "colab": {
          "base_uri": "https://localhost:8080/"
        },
        "id": "W4a8J0yAIMgM",
        "outputId": "ecce5701-1bbd-4276-ff44-2f6bd13bb56d"
      },
      "execution_count": null,
      "outputs": [
        {
          "output_type": "stream",
          "name": "stdout",
          "text": [
            "[1, 2, 3]\n"
          ]
        }
      ]
    },
    {
      "cell_type": "code",
      "source": [
        "#append\n",
        "list1.append('apped')"
      ],
      "metadata": {
        "id": "dE12Qh_pJddX"
      },
      "execution_count": null,
      "outputs": []
    },
    {
      "cell_type": "code",
      "source": [
        "a=5\n",
        "b=4\n",
        "print(a+b)"
      ],
      "metadata": {
        "colab": {
          "base_uri": "https://localhost:8080/"
        },
        "id": "8iAP1VpjCKoD",
        "outputId": "9d5e71da-d531-4e33-9b77-cdc563c9d42d"
      },
      "execution_count": 1,
      "outputs": [
        {
          "output_type": "stream",
          "name": "stdout",
          "text": [
            "9\n"
          ]
        }
      ]
    },
    {
      "cell_type": "code",
      "source": [
        "a=int(input())\n",
        "b=int(input())\n",
        "print(a+b)"
      ],
      "metadata": {
        "colab": {
          "base_uri": "https://localhost:8080/"
        },
        "id": "zU-t0DiBDPb5",
        "outputId": "909579c4-af7f-40cb-b778-38db2168b99c"
      },
      "execution_count": 3,
      "outputs": [
        {
          "output_type": "stream",
          "name": "stdout",
          "text": [
            "54\n",
            "6\n",
            "60\n"
          ]
        }
      ]
    },
    {
      "cell_type": "code",
      "source": [
        "a=int(input())\n",
        "b=int(input())\n",
        "if a > b:\n",
        "    print(\"first number is greater than second\")\n",
        "elif a < b:\n",
        "    print(\"first number is less than second\")\n",
        "else:\n",
        "    print(\"first and second is equal\")"
      ],
      "metadata": {
        "colab": {
          "base_uri": "https://localhost:8080/"
        },
        "id": "KDI3oFxYFAmx",
        "outputId": "f7572825-7487-4bd0-b6d0-a1d2218893d4"
      },
      "execution_count": 7,
      "outputs": [
        {
          "output_type": "stream",
          "name": "stdout",
          "text": [
            "34\n",
            "65\n",
            "first number is less than second\n"
          ]
        }
      ]
    },
    {
      "cell_type": "code",
      "source": [
        "number =int(input())\n",
        "\n",
        "print(\"multiplication table for\", number,\":\")\n",
        "for i in range(1,11):\n",
        "  result = number * i\n",
        "  print(f\"{number} x{i} = {result}\")"
      ],
      "metadata": {
        "colab": {
          "base_uri": "https://localhost:8080/"
        },
        "id": "SOMxykFxKmmw",
        "outputId": "355d2cd1-db24-42d3-b3a3-f498b6d45572"
      },
      "execution_count": 8,
      "outputs": [
        {
          "output_type": "stream",
          "name": "stdout",
          "text": [
            "5\n",
            "multiplication table for 5 :\n",
            "5 x1 = 5\n",
            "5 x2 = 10\n",
            "5 x3 = 15\n",
            "5 x4 = 20\n",
            "5 x5 = 25\n",
            "5 x6 = 30\n",
            "5 x7 = 35\n",
            "5 x8 = 40\n",
            "5 x9 = 45\n",
            "5 x10 = 50\n"
          ]
        }
      ]
    }
  ]
}